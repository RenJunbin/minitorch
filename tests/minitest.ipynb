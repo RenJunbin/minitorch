{
 "cells": [
  {
   "cell_type": "code",
   "execution_count": 46,
   "metadata": {},
   "outputs": [],
   "source": [
    "import minitorch\n",
    "import numpy as np"
   ]
  },
  {
   "cell_type": "code",
   "execution_count": 47,
   "metadata": {},
   "outputs": [],
   "source": [
    "data = np.arange(0,3*4*5*6).reshape(3,4,5,6)\n",
    "A_ = minitorch.tensor(data.tolist())"
   ]
  },
  {
   "cell_type": "code",
   "execution_count": 48,
   "metadata": {},
   "outputs": [],
   "source": [
    "B_ = minitorch.nn.max(A_, 0)"
   ]
  },
  {
   "cell_type": "code",
   "execution_count": 49,
   "metadata": {},
   "outputs": [
    {
     "data": {
      "text/plain": [
       "(1, 4, 5, 6)"
      ]
     },
     "execution_count": 49,
     "metadata": {},
     "output_type": "execute_result"
    }
   ],
   "source": [
    "B_.shape"
   ]
  },
  {
   "cell_type": "code",
   "execution_count": 50,
   "metadata": {},
   "outputs": [
    {
     "data": {
      "text/plain": [
       "\n",
       "[\n",
       "\t[\n",
       "\t\t[\n",
       "\t\t\t[240.00 241.00 242.00 243.00 244.00 245.00]\n",
       "\t\t\t[246.00 247.00 248.00 249.00 250.00 251.00]\n",
       "\t\t\t[252.00 253.00 254.00 255.00 256.00 257.00]\n",
       "\t\t\t[258.00 259.00 260.00 261.00 262.00 263.00]\n",
       "\t\t\t[264.00 265.00 266.00 267.00 268.00 269.00]]\n",
       "\t\t[\n",
       "\t\t\t[270.00 271.00 272.00 273.00 274.00 275.00]\n",
       "\t\t\t[276.00 277.00 278.00 279.00 280.00 281.00]\n",
       "\t\t\t[282.00 283.00 284.00 285.00 286.00 287.00]\n",
       "\t\t\t[288.00 289.00 290.00 291.00 292.00 293.00]\n",
       "\t\t\t[294.00 295.00 296.00 297.00 298.00 299.00]]\n",
       "\t\t[\n",
       "\t\t\t[300.00 301.00 302.00 303.00 304.00 305.00]\n",
       "\t\t\t[306.00 307.00 308.00 309.00 310.00 311.00]\n",
       "\t\t\t[312.00 313.00 314.00 315.00 316.00 317.00]\n",
       "\t\t\t[318.00 319.00 320.00 321.00 322.00 323.00]\n",
       "\t\t\t[324.00 325.00 326.00 327.00 328.00 329.00]]\n",
       "\t\t[\n",
       "\t\t\t[330.00 331.00 332.00 333.00 334.00 335.00]\n",
       "\t\t\t[336.00 337.00 338.00 339.00 340.00 341.00]\n",
       "\t\t\t[342.00 343.00 344.00 345.00 346.00 347.00]\n",
       "\t\t\t[348.00 349.00 350.00 351.00 352.00 353.00]\n",
       "\t\t\t[354.00 355.00 356.00 357.00 358.00 359.00]]]]"
      ]
     },
     "execution_count": 50,
     "metadata": {},
     "output_type": "execute_result"
    }
   ],
   "source": [
    "B_"
   ]
  },
  {
   "cell_type": "code",
   "execution_count": 52,
   "metadata": {},
   "outputs": [],
   "source": [
    "B_.backward(B_)"
   ]
  },
  {
   "cell_type": "code",
   "execution_count": 54,
   "metadata": {},
   "outputs": [
    {
     "data": {
      "text/plain": [
       "(3, 4, 5, 6)"
      ]
     },
     "execution_count": 54,
     "metadata": {},
     "output_type": "execute_result"
    }
   ],
   "source": [
    "A_.grad.shape"
   ]
  },
  {
   "cell_type": "code",
   "execution_count": null,
   "metadata": {},
   "outputs": [],
   "source": []
  }
 ],
 "metadata": {
  "kernelspec": {
   "display_name": "minitorch",
   "language": "python",
   "name": "python3"
  },
  "language_info": {
   "codemirror_mode": {
    "name": "ipython",
    "version": 3
   },
   "file_extension": ".py",
   "mimetype": "text/x-python",
   "name": "python",
   "nbconvert_exporter": "python",
   "pygments_lexer": "ipython3",
   "version": "3.8.16"
  },
  "orig_nbformat": 4
 },
 "nbformat": 4,
 "nbformat_minor": 2
}
